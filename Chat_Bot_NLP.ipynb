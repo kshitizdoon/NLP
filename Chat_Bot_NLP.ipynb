{
 "cells": [
  {
   "cell_type": "markdown",
   "metadata": {},
   "source": [
    "# QnA Chatbot "
   ]
  },
  {
   "cell_type": "markdown",
   "metadata": {},
   "source": [
    "## Loading the Data\n",
    "\n",
    "We will be working with the Babi Data Set from Facebook Research.\n",
    "\n",
    "Full Details: https://research.fb.com/downloads/babi/\n",
    "\n",
    "- Jason Weston, Antoine Bordes, Sumit Chopra, Tomas Mikolov, Alexander M. Rush,\n",
    "  \"Towards AI-Complete Question Answering: A Set of Prerequisite Toy Tasks\",\n",
    "  http://arxiv.org/abs/1502.05698\n"
   ]
  },
  {
   "cell_type": "code",
   "execution_count": 1,
   "metadata": {},
   "outputs": [],
   "source": [
    "import pickle\n",
    "import numpy as np\n",
    "import pandas as pd"
   ]
  },
  {
   "cell_type": "code",
   "execution_count": 2,
   "metadata": {},
   "outputs": [],
   "source": [
    "with open('train_qa.txt','rb') as f:\n",
    "    train_data = pickle.load(f)"
   ]
  },
  {
   "cell_type": "code",
   "execution_count": 3,
   "metadata": {},
   "outputs": [],
   "source": [
    "with open('test_qa.txt','rb') as f:\n",
    "    test_data = pickle.load(f)"
   ]
  },
  {
   "cell_type": "code",
   "execution_count": 4,
   "metadata": {},
   "outputs": [
    {
     "data": {
      "text/plain": [
       "list"
      ]
     },
     "execution_count": 4,
     "metadata": {},
     "output_type": "execute_result"
    }
   ],
   "source": [
    "type(train_data)"
   ]
  },
  {
   "cell_type": "code",
   "execution_count": 5,
   "metadata": {},
   "outputs": [
    {
     "name": "stdout",
     "output_type": "stream",
     "text": [
      "(['Mary', 'moved', 'to', 'the', 'bathroom', '.', 'Sandra', 'journeyed', 'to', 'the', 'bedroom', '.', 'Mary', 'went', 'back', 'to', 'the', 'bedroom', '.', 'Daniel', 'went', 'back', 'to', 'the', 'hallway', '.'], ['Is', 'Daniel', 'in', 'the', 'bathroom', '?'], 'no')\n"
     ]
    }
   ],
   "source": [
    "print(train_data[1])"
   ]
  },
  {
   "cell_type": "code",
   "execution_count": 6,
   "metadata": {},
   "outputs": [
    {
     "data": {
      "text/plain": [
       "10000"
      ]
     },
     "execution_count": 6,
     "metadata": {},
     "output_type": "execute_result"
    }
   ],
   "source": [
    "len(train_data)"
   ]
  },
  {
   "cell_type": "code",
   "execution_count": 7,
   "metadata": {},
   "outputs": [
    {
     "data": {
      "text/plain": [
       "1000"
      ]
     },
     "execution_count": 7,
     "metadata": {},
     "output_type": "execute_result"
    }
   ],
   "source": [
    "len(test_data)"
   ]
  },
  {
   "cell_type": "code",
   "execution_count": 8,
   "metadata": {},
   "outputs": [
    {
     "data": {
      "text/plain": [
       "'Mary moved to the bathroom . Sandra journeyed to the bedroom .'"
      ]
     },
     "execution_count": 8,
     "metadata": {},
     "output_type": "execute_result"
    }
   ],
   "source": [
    "' '.join(train_data[0][0])"
   ]
  },
  {
   "cell_type": "code",
   "execution_count": 9,
   "metadata": {},
   "outputs": [
    {
     "data": {
      "text/plain": [
       "'Is Sandra in the hallway ?'"
      ]
     },
     "execution_count": 9,
     "metadata": {},
     "output_type": "execute_result"
    }
   ],
   "source": [
    "' '.join(train_data[0][1])"
   ]
  },
  {
   "cell_type": "code",
   "execution_count": 10,
   "metadata": {},
   "outputs": [
    {
     "data": {
      "text/plain": [
       "'no'"
      ]
     },
     "execution_count": 10,
     "metadata": {},
     "output_type": "execute_result"
    }
   ],
   "source": [
    "train_data[0][2]"
   ]
  },
  {
   "cell_type": "markdown",
   "metadata": {},
   "source": [
    "##  Creating a Vocabulary of all words"
   ]
  },
  {
   "cell_type": "code",
   "execution_count": 11,
   "metadata": {},
   "outputs": [],
   "source": [
    "all_data = train_data + test_data"
   ]
  },
  {
   "cell_type": "code",
   "execution_count": 12,
   "metadata": {},
   "outputs": [],
   "source": [
    "vocab = set()"
   ]
  },
  {
   "cell_type": "code",
   "execution_count": 13,
   "metadata": {},
   "outputs": [
    {
     "data": {
      "text/plain": [
       "set"
      ]
     },
     "execution_count": 13,
     "metadata": {},
     "output_type": "execute_result"
    }
   ],
   "source": [
    "type(vocab)"
   ]
  },
  {
   "cell_type": "code",
   "execution_count": 14,
   "metadata": {},
   "outputs": [],
   "source": [
    "for words in all_data:\n",
    "    vocab = vocab.union(set(words[0]))\n",
    "    vocab = vocab.union(set(words[1]))"
   ]
  },
  {
   "cell_type": "code",
   "execution_count": 15,
   "metadata": {},
   "outputs": [],
   "source": [
    "vocab = vocab.union(set(['yes','no']))"
   ]
  },
  {
   "cell_type": "code",
   "execution_count": 16,
   "metadata": {},
   "outputs": [
    {
     "data": {
      "text/plain": [
       "37"
      ]
     },
     "execution_count": 16,
     "metadata": {},
     "output_type": "execute_result"
    }
   ],
   "source": [
    "len(vocab)"
   ]
  },
  {
   "cell_type": "code",
   "execution_count": 17,
   "metadata": {},
   "outputs": [
    {
     "name": "stdout",
     "output_type": "stream",
     "text": [
      "{'Mary', 'the', 'back', 'discarded', 'Daniel', 'there', 'to', 'office', 'football', 'no', 'got', 'went', 'up', 'Sandra', 'journeyed', 'took', 'yes', '?', 'bathroom', 'in', 'travelled', 'milk', 'down', 'grabbed', 'Is', 'dropped', 'John', 'moved', 'garden', 'apple', 'put', '.', 'kitchen', 'picked', 'hallway', 'bedroom', 'left'}\n"
     ]
    }
   ],
   "source": [
    "print(vocab)"
   ]
  },
  {
   "cell_type": "code",
   "execution_count": 18,
   "metadata": {},
   "outputs": [],
   "source": [
    "# Reserve 0 for pad_sequences\n",
    "vocab_size = len(vocab) + 1"
   ]
  },
  {
   "cell_type": "code",
   "execution_count": 19,
   "metadata": {},
   "outputs": [],
   "source": [
    "# Max lenth of a story\n",
    "all_story_len = [len(data[0]) for data in all_data]"
   ]
  },
  {
   "cell_type": "code",
   "execution_count": 20,
   "metadata": {},
   "outputs": [
    {
     "name": "stdout",
     "output_type": "stream",
     "text": [
      "156\n"
     ]
    }
   ],
   "source": [
    "max_story_len = max(all_story_len)\n",
    "print(max_story_len)"
   ]
  },
  {
   "cell_type": "code",
   "execution_count": 21,
   "metadata": {},
   "outputs": [],
   "source": [
    "max_question_len = max([len(data[1]) for data in all_data])"
   ]
  },
  {
   "cell_type": "code",
   "execution_count": 22,
   "metadata": {},
   "outputs": [
    {
     "data": {
      "text/plain": [
       "6"
      ]
     },
     "execution_count": 22,
     "metadata": {},
     "output_type": "execute_result"
    }
   ],
   "source": [
    "max_question_len"
   ]
  },
  {
   "cell_type": "markdown",
   "metadata": {},
   "source": [
    "## Vectorizing the data"
   ]
  },
  {
   "cell_type": "code",
   "execution_count": 23,
   "metadata": {},
   "outputs": [],
   "source": [
    "from keras.preprocessing.sequence import pad_sequences\n",
    "from keras.preprocessing.text import Tokenizer"
   ]
  },
  {
   "cell_type": "code",
   "execution_count": 24,
   "metadata": {},
   "outputs": [],
   "source": [
    "tokenizer = Tokenizer(filters=[])"
   ]
  },
  {
   "cell_type": "code",
   "execution_count": 25,
   "metadata": {},
   "outputs": [],
   "source": [
    "tokenizer.fit_on_texts(vocab)"
   ]
  },
  {
   "cell_type": "code",
   "execution_count": 26,
   "metadata": {},
   "outputs": [
    {
     "data": {
      "text/plain": [
       "{'mary': 1,\n",
       " 'the': 2,\n",
       " 'back': 3,\n",
       " 'discarded': 4,\n",
       " 'daniel': 5,\n",
       " 'there': 6,\n",
       " 'to': 7,\n",
       " 'office': 8,\n",
       " 'football': 9,\n",
       " 'no': 10,\n",
       " 'got': 11,\n",
       " 'went': 12,\n",
       " 'up': 13,\n",
       " 'sandra': 14,\n",
       " 'journeyed': 15,\n",
       " 'took': 16,\n",
       " 'yes': 17,\n",
       " '?': 18,\n",
       " 'bathroom': 19,\n",
       " 'in': 20,\n",
       " 'travelled': 21,\n",
       " 'milk': 22,\n",
       " 'down': 23,\n",
       " 'grabbed': 24,\n",
       " 'is': 25,\n",
       " 'dropped': 26,\n",
       " 'john': 27,\n",
       " 'moved': 28,\n",
       " 'garden': 29,\n",
       " 'apple': 30,\n",
       " 'put': 31,\n",
       " '.': 32,\n",
       " 'kitchen': 33,\n",
       " 'picked': 34,\n",
       " 'hallway': 35,\n",
       " 'bedroom': 36,\n",
       " 'left': 37}"
      ]
     },
     "execution_count": 26,
     "metadata": {},
     "output_type": "execute_result"
    }
   ],
   "source": [
    "tokenizer.word_index"
   ]
  },
  {
   "cell_type": "code",
   "execution_count": 27,
   "metadata": {},
   "outputs": [],
   "source": [
    "train_story_text = []\n",
    "train_question_text = []\n",
    "train_answers_text = []\n",
    "for story,question,answer in train_data:\n",
    "    train_story_text.append(story)\n",
    "    train_question_text.append(question)\n",
    "    train_answers_text.append(answer)"
   ]
  },
  {
   "cell_type": "code",
   "execution_count": 28,
   "metadata": {},
   "outputs": [],
   "source": [
    "train_story_seq = tokenizer.texts_to_sequences(train_story_text)"
   ]
  },
  {
   "cell_type": "code",
   "execution_count": 29,
   "metadata": {},
   "outputs": [
    {
     "data": {
      "text/plain": [
       "[1, 28, 7, 2, 19, 32, 14, 15, 7, 2, 36, 32]"
      ]
     },
     "execution_count": 29,
     "metadata": {},
     "output_type": "execute_result"
    }
   ],
   "source": [
    "train_story_seq[0]"
   ]
  },
  {
   "cell_type": "code",
   "execution_count": 30,
   "metadata": {},
   "outputs": [],
   "source": [
    "def vectorize(data,max_story_len=max_story_len,max_question_len=max_question_len):\n",
    "    story_text = []\n",
    "    question_text = []\n",
    "    answers_text = []\n",
    "    \n",
    "    for story,question,answer in data:\n",
    "        story_text.append(story)\n",
    "        question_text.append(question)\n",
    "        answer_array = np.zeros(len(vocab) + 1)\n",
    "        answer_array[tokenizer.word_index[answer]] = 1\n",
    "        answers_text.append(answer_array)\n",
    "        \n",
    "    story_seq = tokenizer.texts_to_sequences(story_text)\n",
    "    query_seq = tokenizer.texts_to_sequences(question_text)\n",
    "    \n",
    "    # Padding the sequences \n",
    "    return (pad_sequences(story_seq, maxlen=max_story_len),pad_sequences(query_seq, maxlen=max_question_len),np.array(answers_text))"
   ]
  },
  {
   "cell_type": "code",
   "execution_count": 31,
   "metadata": {},
   "outputs": [],
   "source": [
    "inputs_train, queries_train, answers_train = vectorize(train_data)"
   ]
  },
  {
   "cell_type": "code",
   "execution_count": 32,
   "metadata": {},
   "outputs": [],
   "source": [
    "inputs_test, queries_test, answers_test = vectorize(test_data)"
   ]
  },
  {
   "cell_type": "code",
   "execution_count": 33,
   "metadata": {
    "scrolled": true
   },
   "outputs": [
    {
     "data": {
      "text/plain": [
       "array([[ 0,  0,  0, ...,  2, 36, 32],\n",
       "       [ 0,  0,  0, ...,  2, 35, 32],\n",
       "       [ 0,  0,  0, ...,  2, 19, 32],\n",
       "       ...,\n",
       "       [ 0,  0,  0, ...,  2, 36, 32],\n",
       "       [ 0,  0,  0, ..., 22,  6, 32],\n",
       "       [ 0,  0,  0, ..., 30,  6, 32]])"
      ]
     },
     "execution_count": 33,
     "metadata": {},
     "output_type": "execute_result"
    }
   ],
   "source": [
    "inputs_train"
   ]
  },
  {
   "cell_type": "code",
   "execution_count": 34,
   "metadata": {},
   "outputs": [
    {
     "data": {
      "text/plain": [
       "array([[25, 14, 20,  2, 35, 18],\n",
       "       [25,  5, 20,  2, 19, 18],\n",
       "       [25,  5, 20,  2,  8, 18],\n",
       "       ...,\n",
       "       [25, 14, 20,  2, 35, 18],\n",
       "       [25,  1, 20,  2, 33, 18],\n",
       "       [25,  1, 20,  2, 36, 18]])"
      ]
     },
     "execution_count": 34,
     "metadata": {},
     "output_type": "execute_result"
    }
   ],
   "source": [
    "queries_train"
   ]
  },
  {
   "cell_type": "code",
   "execution_count": 35,
   "metadata": {},
   "outputs": [
    {
     "data": {
      "text/plain": [
       "array([[ 0,  0,  0, ...,  2, 36, 32],\n",
       "       [ 0,  0,  0, ...,  2, 29, 32],\n",
       "       [ 0,  0,  0, ...,  2, 29, 32],\n",
       "       ...,\n",
       "       [ 0,  0,  0, ...,  2, 30, 32],\n",
       "       [ 0,  0,  0, ...,  2, 29, 32],\n",
       "       [ 0,  0,  0, ..., 30,  6, 32]])"
      ]
     },
     "execution_count": 35,
     "metadata": {},
     "output_type": "execute_result"
    }
   ],
   "source": [
    "inputs_test"
   ]
  },
  {
   "cell_type": "code",
   "execution_count": 36,
   "metadata": {},
   "outputs": [
    {
     "data": {
      "text/plain": [
       "array([[0., 0., 0., ..., 0., 0., 0.],\n",
       "       [0., 0., 0., ..., 0., 0., 0.],\n",
       "       [0., 0., 0., ..., 0., 0., 0.],\n",
       "       ...,\n",
       "       [0., 0., 0., ..., 0., 0., 0.],\n",
       "       [0., 0., 0., ..., 0., 0., 0.],\n",
       "       [0., 0., 0., ..., 0., 0., 0.]])"
      ]
     },
     "execution_count": 36,
     "metadata": {},
     "output_type": "execute_result"
    }
   ],
   "source": [
    "answers_test"
   ]
  },
  {
   "cell_type": "code",
   "execution_count": 37,
   "metadata": {},
   "outputs": [
    {
     "data": {
      "text/plain": [
       "10"
      ]
     },
     "execution_count": 37,
     "metadata": {},
     "output_type": "execute_result"
    }
   ],
   "source": [
    "tokenizer.word_index['no']"
   ]
  },
  {
   "cell_type": "code",
   "execution_count": 38,
   "metadata": {},
   "outputs": [
    {
     "data": {
      "text/plain": [
       "array([0., 0., 0., 0., 0., 0., 0., 0., 0., 0., 1., 0., 0., 0., 0., 0., 0.,\n",
       "       0., 0., 0., 0., 0., 0., 0., 0., 0., 0., 0., 0., 0., 0., 0., 0., 0.,\n",
       "       0., 0., 0., 0.])"
      ]
     },
     "execution_count": 38,
     "metadata": {},
     "output_type": "execute_result"
    }
   ],
   "source": [
    "answers_train[0]"
   ]
  },
  {
   "cell_type": "code",
   "execution_count": 39,
   "metadata": {},
   "outputs": [
    {
     "data": {
      "text/plain": [
       "array([  0.,   0.,   0.,   0.,   0.,   0.,   0.,   0.,   0.,   0., 503.,\n",
       "         0.,   0.,   0.,   0.,   0.,   0., 497.,   0.,   0.,   0.,   0.,\n",
       "         0.,   0.,   0.,   0.,   0.,   0.,   0.,   0.,   0.,   0.,   0.,\n",
       "         0.,   0.,   0.,   0.,   0.])"
      ]
     },
     "execution_count": 39,
     "metadata": {},
     "output_type": "execute_result"
    }
   ],
   "source": [
    "sum(answers_test)"
   ]
  },
  {
   "cell_type": "markdown",
   "metadata": {},
   "source": [
    "## Creating the Model"
   ]
  },
  {
   "cell_type": "code",
   "execution_count": 40,
   "metadata": {},
   "outputs": [],
   "source": [
    "from keras.models import Sequential, Model\n",
    "from keras.layers.embeddings import Embedding\n",
    "from keras.layers import Input, Activation, Dense, Permute, Dropout\n",
    "from keras.layers import add, dot, concatenate\n",
    "from keras.layers import LSTM"
   ]
  },
  {
   "cell_type": "markdown",
   "metadata": {},
   "source": [
    "### Placeholders for Inputs"
   ]
  },
  {
   "cell_type": "code",
   "execution_count": 41,
   "metadata": {},
   "outputs": [],
   "source": [
    "input_sequence = Input((max_story_len,))\n",
    "question = Input((max_question_len,))"
   ]
  },
  {
   "cell_type": "markdown",
   "metadata": {
    "collapsed": true
   },
   "source": [
    "### Building the Networks\n",
    "\n",
    "The setup of neural network we'll use is chosen from this paper\n",
    "\n",
    "* Sainbayar Sukhbaatar, Arthur Szlam, Jason Weston, Rob Fergus,\n",
    "  \"End-To-End Memory Networks\",\n",
    "  http://arxiv.org/abs/1503.08895"
   ]
  },
  {
   "cell_type": "markdown",
   "metadata": {},
   "source": [
    "## Encoders\n",
    "\n",
    "### Input Encoder m"
   ]
  },
  {
   "cell_type": "code",
   "execution_count": 42,
   "metadata": {},
   "outputs": [],
   "source": [
    "# Input gets embedded to a sequence of vectors\n",
    "input_encoder_m = Sequential()\n",
    "input_encoder_m.add(Embedding(input_dim=vocab_size,output_dim=64))\n",
    "input_encoder_m.add(Dropout(0.3))\n",
    "\n",
    "# This encoder will output:\n",
    "# (samples, story_maxlen, embedding_dim)"
   ]
  },
  {
   "cell_type": "markdown",
   "metadata": {},
   "source": [
    "### Input Encoder c"
   ]
  },
  {
   "cell_type": "code",
   "execution_count": 43,
   "metadata": {},
   "outputs": [],
   "source": [
    "# embed the input into a sequence of vectors of size query_maxlen\n",
    "input_encoder_c = Sequential()\n",
    "input_encoder_c.add(Embedding(input_dim=vocab_size,output_dim=max_question_len))\n",
    "input_encoder_c.add(Dropout(0.3))\n",
    "# output: (samples, story_maxlen, query_maxlen)"
   ]
  },
  {
   "cell_type": "markdown",
   "metadata": {},
   "source": [
    "### Question Encoder"
   ]
  },
  {
   "cell_type": "code",
   "execution_count": 44,
   "metadata": {},
   "outputs": [],
   "source": [
    "# embed the question into a sequence of vectors\n",
    "question_encoder = Sequential()\n",
    "question_encoder.add(Embedding(input_dim=vocab_size,\n",
    "                               output_dim=64,\n",
    "                               input_length=max_question_len))\n",
    "question_encoder.add(Dropout(0.3))\n",
    "# output: (samples, query_maxlen, embedding_dim)"
   ]
  },
  {
   "cell_type": "markdown",
   "metadata": {},
   "source": [
    "### Encode the Sequences"
   ]
  },
  {
   "cell_type": "code",
   "execution_count": 45,
   "metadata": {},
   "outputs": [],
   "source": [
    "# encode input sequence and questions (which are indices)\n",
    "# to sequences of dense vectors\n",
    "input_encoded_m = input_encoder_m(input_sequence)\n",
    "input_encoded_c = input_encoder_c(input_sequence)\n",
    "question_encoded = question_encoder(question)"
   ]
  },
  {
   "cell_type": "markdown",
   "metadata": {},
   "source": [
    "##### Use dot product to compute the match between first input vector seq and the query"
   ]
  },
  {
   "cell_type": "code",
   "execution_count": 46,
   "metadata": {},
   "outputs": [],
   "source": [
    "# shape: `(samples, story_maxlen, query_maxlen)`\n",
    "match = dot([input_encoded_m, question_encoded], axes=(2, 2))\n",
    "match = Activation('softmax')(match)"
   ]
  },
  {
   "cell_type": "markdown",
   "metadata": {},
   "source": [
    "#### Add this match matrix with the second input vector sequence"
   ]
  },
  {
   "cell_type": "code",
   "execution_count": 47,
   "metadata": {},
   "outputs": [],
   "source": [
    "# add the match matrix with the second input vector sequence\n",
    "response = add([match, input_encoded_c])  # (samples, story_maxlen, query_maxlen)\n",
    "response = Permute((2, 1))(response)  # (samples, query_maxlen, story_maxlen)"
   ]
  },
  {
   "cell_type": "markdown",
   "metadata": {},
   "source": [
    "#### Concatenate"
   ]
  },
  {
   "cell_type": "code",
   "execution_count": 48,
   "metadata": {},
   "outputs": [],
   "source": [
    "# concatenate the match matrix with the question vector sequence\n",
    "answer = concatenate([response, question_encoded])"
   ]
  },
  {
   "cell_type": "code",
   "execution_count": 49,
   "metadata": {},
   "outputs": [
    {
     "data": {
      "text/plain": [
       "<KerasTensor: shape=(None, 6, 220) dtype=float32 (created by layer 'concatenate')>"
      ]
     },
     "execution_count": 49,
     "metadata": {},
     "output_type": "execute_result"
    }
   ],
   "source": [
    "answer"
   ]
  },
  {
   "cell_type": "code",
   "execution_count": 50,
   "metadata": {},
   "outputs": [],
   "source": [
    "# Reduce with RNN (LSTM)\n",
    "answer = LSTM(32)(answer)  # (samples, 32)"
   ]
  },
  {
   "cell_type": "code",
   "execution_count": 51,
   "metadata": {},
   "outputs": [],
   "source": [
    "# Regularization with Dropout\n",
    "answer = Dropout(0.5)(answer)\n",
    "answer = Dense(vocab_size)(answer)  # (samples, vocab_size)"
   ]
  },
  {
   "cell_type": "code",
   "execution_count": 52,
   "metadata": {},
   "outputs": [],
   "source": [
    "# we output a probability distribution over the vocabulary\n",
    "answer = Activation('softmax')(answer)\n",
    "\n",
    "# build the final model\n",
    "model = Model([input_sequence, question], answer)\n",
    "model.compile(optimizer='rmsprop', loss='categorical_crossentropy',\n",
    "              metrics=['accuracy'])"
   ]
  },
  {
   "cell_type": "code",
   "execution_count": 53,
   "metadata": {
    "scrolled": true
   },
   "outputs": [
    {
     "name": "stdout",
     "output_type": "stream",
     "text": [
      "Model: \"model\"\n",
      "__________________________________________________________________________________________________\n",
      "Layer (type)                    Output Shape         Param #     Connected to                     \n",
      "==================================================================================================\n",
      "input_1 (InputLayer)            [(None, 156)]        0                                            \n",
      "__________________________________________________________________________________________________\n",
      "input_2 (InputLayer)            [(None, 6)]          0                                            \n",
      "__________________________________________________________________________________________________\n",
      "sequential (Sequential)         (None, None, 64)     2432        input_1[0][0]                    \n",
      "__________________________________________________________________________________________________\n",
      "sequential_2 (Sequential)       (None, 6, 64)        2432        input_2[0][0]                    \n",
      "__________________________________________________________________________________________________\n",
      "dot (Dot)                       (None, 156, 6)       0           sequential[0][0]                 \n",
      "                                                                 sequential_2[0][0]               \n",
      "__________________________________________________________________________________________________\n",
      "activation (Activation)         (None, 156, 6)       0           dot[0][0]                        \n",
      "__________________________________________________________________________________________________\n",
      "sequential_1 (Sequential)       (None, None, 6)      228         input_1[0][0]                    \n",
      "__________________________________________________________________________________________________\n",
      "add (Add)                       (None, 156, 6)       0           activation[0][0]                 \n",
      "                                                                 sequential_1[0][0]               \n",
      "__________________________________________________________________________________________________\n",
      "permute (Permute)               (None, 6, 156)       0           add[0][0]                        \n",
      "__________________________________________________________________________________________________\n",
      "concatenate (Concatenate)       (None, 6, 220)       0           permute[0][0]                    \n",
      "                                                                 sequential_2[0][0]               \n",
      "__________________________________________________________________________________________________\n",
      "lstm (LSTM)                     (None, 32)           32384       concatenate[0][0]                \n",
      "__________________________________________________________________________________________________\n",
      "dropout_3 (Dropout)             (None, 32)           0           lstm[0][0]                       \n",
      "__________________________________________________________________________________________________\n",
      "dense (Dense)                   (None, 38)           1254        dropout_3[0][0]                  \n",
      "__________________________________________________________________________________________________\n",
      "activation_1 (Activation)       (None, 38)           0           dense[0][0]                      \n",
      "==================================================================================================\n",
      "Total params: 38,730\n",
      "Trainable params: 38,730\n",
      "Non-trainable params: 0\n",
      "__________________________________________________________________________________________________\n"
     ]
    }
   ],
   "source": [
    "model.summary()"
   ]
  },
  {
   "cell_type": "code",
   "execution_count": 54,
   "metadata": {},
   "outputs": [
    {
     "name": "stdout",
     "output_type": "stream",
     "text": [
      "Epoch 1/120\n",
      "313/313 [==============================] - 29s 16ms/step - loss: 1.2026 - accuracy: 0.4940 - val_loss: 0.6949 - val_accuracy: 0.5030\n",
      "Epoch 2/120\n",
      "313/313 [==============================] - 3s 11ms/step - loss: 0.7078 - accuracy: 0.4958 - val_loss: 0.6933 - val_accuracy: 0.4970\n",
      "Epoch 3/120\n",
      "313/313 [==============================] - 3s 11ms/step - loss: 0.6953 - accuracy: 0.5066 - val_loss: 0.6936 - val_accuracy: 0.5030\n",
      "Epoch 4/120\n",
      "313/313 [==============================] - 4s 12ms/step - loss: 0.6961 - accuracy: 0.4956 - val_loss: 0.6937 - val_accuracy: 0.4970\n",
      "Epoch 5/120\n",
      "313/313 [==============================] - 4s 11ms/step - loss: 0.6948 - accuracy: 0.4889 - val_loss: 0.6944 - val_accuracy: 0.4970\n",
      "Epoch 6/120\n",
      "313/313 [==============================] - 3s 11ms/step - loss: 0.6942 - accuracy: 0.5085 - val_loss: 0.6955 - val_accuracy: 0.4970\n",
      "Epoch 7/120\n",
      "313/313 [==============================] - 3s 11ms/step - loss: 0.6951 - accuracy: 0.4889 - val_loss: 0.6936 - val_accuracy: 0.4970\n",
      "Epoch 8/120\n",
      "313/313 [==============================] - 3s 11ms/step - loss: 0.6936 - accuracy: 0.5102 - val_loss: 0.6987 - val_accuracy: 0.4970\n",
      "Epoch 9/120\n",
      "313/313 [==============================] - 3s 11ms/step - loss: 0.6935 - accuracy: 0.5148 - val_loss: 0.6944 - val_accuracy: 0.5030\n",
      "Epoch 10/120\n",
      "313/313 [==============================] - 3s 11ms/step - loss: 0.6945 - accuracy: 0.5013 - val_loss: 0.6940 - val_accuracy: 0.4500\n",
      "Epoch 11/120\n",
      "313/313 [==============================] - 3s 11ms/step - loss: 0.6952 - accuracy: 0.4945 - val_loss: 0.6943 - val_accuracy: 0.4970\n",
      "Epoch 12/120\n",
      "313/313 [==============================] - 3s 11ms/step - loss: 0.6944 - accuracy: 0.4950 - val_loss: 0.6950 - val_accuracy: 0.4880\n",
      "Epoch 13/120\n",
      "313/313 [==============================] - 3s 11ms/step - loss: 0.6933 - accuracy: 0.5094 - val_loss: 0.6957 - val_accuracy: 0.4910\n",
      "Epoch 14/120\n",
      "313/313 [==============================] - 3s 11ms/step - loss: 0.6930 - accuracy: 0.5026 - val_loss: 0.6955 - val_accuracy: 0.4950\n",
      "Epoch 15/120\n",
      "313/313 [==============================] - 3s 11ms/step - loss: 0.6904 - accuracy: 0.5301 - val_loss: 0.6900 - val_accuracy: 0.5150\n",
      "Epoch 16/120\n",
      "313/313 [==============================] - 3s 11ms/step - loss: 0.6816 - accuracy: 0.5548 - val_loss: 0.6516 - val_accuracy: 0.6410\n",
      "Epoch 17/120\n",
      "313/313 [==============================] - 3s 11ms/step - loss: 0.6330 - accuracy: 0.6459 - val_loss: 0.5625 - val_accuracy: 0.7300\n",
      "Epoch 18/120\n",
      "313/313 [==============================] - 3s 11ms/step - loss: 0.5666 - accuracy: 0.7281 - val_loss: 0.5068 - val_accuracy: 0.7670\n",
      "Epoch 19/120\n",
      "313/313 [==============================] - 3s 11ms/step - loss: 0.5136 - accuracy: 0.7707 - val_loss: 0.4690 - val_accuracy: 0.8080\n",
      "Epoch 20/120\n",
      "313/313 [==============================] - 4s 12ms/step - loss: 0.4652 - accuracy: 0.7962 - val_loss: 0.4570 - val_accuracy: 0.7940\n",
      "Epoch 21/120\n",
      "313/313 [==============================] - 3s 11ms/step - loss: 0.4504 - accuracy: 0.8087 - val_loss: 0.4296 - val_accuracy: 0.8290\n",
      "Epoch 22/120\n",
      "313/313 [==============================] - 3s 11ms/step - loss: 0.4246 - accuracy: 0.8228 - val_loss: 0.4177 - val_accuracy: 0.8350\n",
      "Epoch 23/120\n",
      "313/313 [==============================] - 3s 11ms/step - loss: 0.3941 - accuracy: 0.8364 - val_loss: 0.3998 - val_accuracy: 0.8360\n",
      "Epoch 24/120\n",
      "313/313 [==============================] - 3s 11ms/step - loss: 0.3877 - accuracy: 0.8408 - val_loss: 0.3965 - val_accuracy: 0.8380\n",
      "Epoch 25/120\n",
      "313/313 [==============================] - 3s 11ms/step - loss: 0.3825 - accuracy: 0.8395 - val_loss: 0.3913 - val_accuracy: 0.8400\n",
      "Epoch 26/120\n",
      "313/313 [==============================] - 3s 11ms/step - loss: 0.3798 - accuracy: 0.8466 - val_loss: 0.3945 - val_accuracy: 0.8350\n",
      "Epoch 27/120\n",
      "313/313 [==============================] - 4s 11ms/step - loss: 0.3835 - accuracy: 0.8367 - val_loss: 0.3813 - val_accuracy: 0.8440\n",
      "Epoch 28/120\n",
      "313/313 [==============================] - 3s 10ms/step - loss: 0.3565 - accuracy: 0.8553 - val_loss: 0.3975 - val_accuracy: 0.8350\n",
      "Epoch 29/120\n",
      "313/313 [==============================] - 3s 11ms/step - loss: 0.3505 - accuracy: 0.8577 - val_loss: 0.3798 - val_accuracy: 0.8350\n",
      "Epoch 30/120\n",
      "313/313 [==============================] - 3s 11ms/step - loss: 0.3500 - accuracy: 0.8543 - val_loss: 0.3716 - val_accuracy: 0.8380\n",
      "Epoch 31/120\n",
      "313/313 [==============================] - 3s 11ms/step - loss: 0.3618 - accuracy: 0.8520 - val_loss: 0.3785 - val_accuracy: 0.8440\n",
      "Epoch 32/120\n",
      "313/313 [==============================] - 3s 11ms/step - loss: 0.3546 - accuracy: 0.8503 - val_loss: 0.3911 - val_accuracy: 0.8260\n",
      "Epoch 33/120\n",
      "313/313 [==============================] - 3s 11ms/step - loss: 0.3401 - accuracy: 0.8621 - val_loss: 0.3563 - val_accuracy: 0.8410\n",
      "Epoch 34/120\n",
      "313/313 [==============================] - 3s 11ms/step - loss: 0.3241 - accuracy: 0.8689 - val_loss: 0.3906 - val_accuracy: 0.8320\n",
      "Epoch 35/120\n",
      "313/313 [==============================] - 3s 11ms/step - loss: 0.3230 - accuracy: 0.8655 - val_loss: 0.3644 - val_accuracy: 0.8350\n",
      "Epoch 36/120\n",
      "313/313 [==============================] - 3s 11ms/step - loss: 0.3220 - accuracy: 0.8637 - val_loss: 0.3516 - val_accuracy: 0.8440\n",
      "Epoch 37/120\n",
      "313/313 [==============================] - 4s 11ms/step - loss: 0.3235 - accuracy: 0.8625 - val_loss: 0.3848 - val_accuracy: 0.8360\n",
      "Epoch 38/120\n",
      "313/313 [==============================] - 3s 11ms/step - loss: 0.3159 - accuracy: 0.8665 - val_loss: 0.3696 - val_accuracy: 0.8400\n",
      "Epoch 39/120\n",
      "313/313 [==============================] - 3s 11ms/step - loss: 0.3266 - accuracy: 0.8594 - val_loss: 0.3655 - val_accuracy: 0.8380\n",
      "Epoch 40/120\n",
      "313/313 [==============================] - 3s 10ms/step - loss: 0.3155 - accuracy: 0.8673 - val_loss: 0.3580 - val_accuracy: 0.8270\n",
      "Epoch 41/120\n",
      "313/313 [==============================] - 3s 11ms/step - loss: 0.3080 - accuracy: 0.8680 - val_loss: 0.3471 - val_accuracy: 0.8390\n",
      "Epoch 42/120\n",
      "313/313 [==============================] - 3s 11ms/step - loss: 0.3001 - accuracy: 0.8715 - val_loss: 0.3611 - val_accuracy: 0.8400\n",
      "Epoch 43/120\n",
      "313/313 [==============================] - 3s 11ms/step - loss: 0.3026 - accuracy: 0.8741 - val_loss: 0.3627 - val_accuracy: 0.8390\n",
      "Epoch 44/120\n",
      "313/313 [==============================] - 3s 11ms/step - loss: 0.2985 - accuracy: 0.8703 - val_loss: 0.3553 - val_accuracy: 0.8400\n",
      "Epoch 45/120\n",
      "313/313 [==============================] - 3s 11ms/step - loss: 0.3043 - accuracy: 0.8680 - val_loss: 0.3456 - val_accuracy: 0.8370\n",
      "Epoch 46/120\n",
      "313/313 [==============================] - 3s 11ms/step - loss: 0.2957 - accuracy: 0.8715 - val_loss: 0.3629 - val_accuracy: 0.8320\n",
      "Epoch 47/120\n",
      "313/313 [==============================] - 3s 11ms/step - loss: 0.3027 - accuracy: 0.8714 - val_loss: 0.3698 - val_accuracy: 0.8350\n",
      "Epoch 48/120\n",
      "313/313 [==============================] - 3s 11ms/step - loss: 0.3052 - accuracy: 0.8650 - val_loss: 0.3502 - val_accuracy: 0.8400\n",
      "Epoch 49/120\n",
      "313/313 [==============================] - 3s 11ms/step - loss: 0.2927 - accuracy: 0.8742 - val_loss: 0.3500 - val_accuracy: 0.8390\n",
      "Epoch 50/120\n",
      "313/313 [==============================] - 3s 10ms/step - loss: 0.2908 - accuracy: 0.8741 - val_loss: 0.3390 - val_accuracy: 0.8400\n",
      "Epoch 51/120\n",
      "313/313 [==============================] - 3s 11ms/step - loss: 0.2907 - accuracy: 0.8757 - val_loss: 0.3515 - val_accuracy: 0.8370\n",
      "Epoch 52/120\n",
      "313/313 [==============================] - 3s 10ms/step - loss: 0.2832 - accuracy: 0.8729 - val_loss: 0.3411 - val_accuracy: 0.8400\n",
      "Epoch 53/120\n",
      "313/313 [==============================] - 4s 11ms/step - loss: 0.2864 - accuracy: 0.8780 - val_loss: 0.3588 - val_accuracy: 0.8360\n",
      "Epoch 54/120\n",
      "313/313 [==============================] - 4s 14ms/step - loss: 0.2892 - accuracy: 0.8708 - val_loss: 0.3729 - val_accuracy: 0.8340\n",
      "Epoch 55/120\n",
      "313/313 [==============================] - 4s 12ms/step - loss: 0.2804 - accuracy: 0.8768 - val_loss: 0.3728 - val_accuracy: 0.8320\n",
      "Epoch 56/120\n",
      "313/313 [==============================] - 4s 12ms/step - loss: 0.2840 - accuracy: 0.8772 - val_loss: 0.3613 - val_accuracy: 0.8340\n",
      "Epoch 57/120\n"
     ]
    },
    {
     "name": "stdout",
     "output_type": "stream",
     "text": [
      "313/313 [==============================] - 4s 12ms/step - loss: 0.2855 - accuracy: 0.8764 - val_loss: 0.3495 - val_accuracy: 0.8390\n",
      "Epoch 58/120\n",
      "313/313 [==============================] - 4s 12ms/step - loss: 0.2855 - accuracy: 0.8741 - val_loss: 0.3714 - val_accuracy: 0.8300\n",
      "Epoch 59/120\n",
      "313/313 [==============================] - 4s 12ms/step - loss: 0.2742 - accuracy: 0.8795 - val_loss: 0.3393 - val_accuracy: 0.8420\n",
      "Epoch 60/120\n",
      "313/313 [==============================] - 4s 12ms/step - loss: 0.2847 - accuracy: 0.8760 - val_loss: 0.3488 - val_accuracy: 0.8370\n",
      "Epoch 61/120\n",
      "313/313 [==============================] - 4s 12ms/step - loss: 0.2754 - accuracy: 0.8809 - val_loss: 0.3761 - val_accuracy: 0.8340\n",
      "Epoch 62/120\n",
      "313/313 [==============================] - 3s 11ms/step - loss: 0.2766 - accuracy: 0.8793 - val_loss: 0.3602 - val_accuracy: 0.8340\n",
      "Epoch 63/120\n",
      "313/313 [==============================] - 3s 11ms/step - loss: 0.2747 - accuracy: 0.8850 - val_loss: 0.3724 - val_accuracy: 0.8310\n",
      "Epoch 64/120\n",
      "313/313 [==============================] - 4s 13ms/step - loss: 0.2755 - accuracy: 0.8794 - val_loss: 0.3456 - val_accuracy: 0.8290\n",
      "Epoch 65/120\n",
      "313/313 [==============================] - 4s 12ms/step - loss: 0.2717 - accuracy: 0.8800 - val_loss: 0.3565 - val_accuracy: 0.8330\n",
      "Epoch 66/120\n",
      "313/313 [==============================] - 4s 11ms/step - loss: 0.2610 - accuracy: 0.8872 - val_loss: 0.3562 - val_accuracy: 0.8330\n",
      "Epoch 67/120\n",
      "313/313 [==============================] - 4s 12ms/step - loss: 0.2685 - accuracy: 0.8808 - val_loss: 0.3515 - val_accuracy: 0.8450\n",
      "Epoch 68/120\n",
      "313/313 [==============================] - 4s 12ms/step - loss: 0.2687 - accuracy: 0.8854 - val_loss: 0.3705 - val_accuracy: 0.8310\n",
      "Epoch 69/120\n",
      "313/313 [==============================] - 4s 13ms/step - loss: 0.2605 - accuracy: 0.8865 - val_loss: 0.3548 - val_accuracy: 0.8290\n",
      "Epoch 70/120\n",
      "313/313 [==============================] - 4s 13ms/step - loss: 0.2614 - accuracy: 0.8864 - val_loss: 0.3858 - val_accuracy: 0.8330\n",
      "Epoch 71/120\n",
      "313/313 [==============================] - 4s 11ms/step - loss: 0.2606 - accuracy: 0.8836 - val_loss: 0.3692 - val_accuracy: 0.8340\n",
      "Epoch 72/120\n",
      "313/313 [==============================] - 3s 10ms/step - loss: 0.2719 - accuracy: 0.8797 - val_loss: 0.3603 - val_accuracy: 0.8360\n",
      "Epoch 73/120\n",
      "313/313 [==============================] - 3s 11ms/step - loss: 0.2579 - accuracy: 0.8915 - val_loss: 0.3822 - val_accuracy: 0.8260\n",
      "Epoch 74/120\n",
      "313/313 [==============================] - 3s 10ms/step - loss: 0.2654 - accuracy: 0.8853 - val_loss: 0.3516 - val_accuracy: 0.8370\n",
      "Epoch 75/120\n",
      "313/313 [==============================] - 3s 11ms/step - loss: 0.2518 - accuracy: 0.8930 - val_loss: 0.3826 - val_accuracy: 0.8320\n",
      "Epoch 76/120\n",
      "313/313 [==============================] - 3s 11ms/step - loss: 0.2644 - accuracy: 0.8907 - val_loss: 0.3508 - val_accuracy: 0.8370\n",
      "Epoch 77/120\n",
      "313/313 [==============================] - 3s 11ms/step - loss: 0.2599 - accuracy: 0.8870 - val_loss: 0.3812 - val_accuracy: 0.8420\n",
      "Epoch 78/120\n",
      "313/313 [==============================] - 3s 11ms/step - loss: 0.2504 - accuracy: 0.8947 - val_loss: 0.3861 - val_accuracy: 0.8330\n",
      "Epoch 79/120\n",
      "313/313 [==============================] - 3s 11ms/step - loss: 0.2416 - accuracy: 0.8943 - val_loss: 0.3597 - val_accuracy: 0.8380\n",
      "Epoch 80/120\n",
      "313/313 [==============================] - 3s 11ms/step - loss: 0.2418 - accuracy: 0.8904 - val_loss: 0.3716 - val_accuracy: 0.8330\n",
      "Epoch 81/120\n",
      "313/313 [==============================] - 3s 11ms/step - loss: 0.2541 - accuracy: 0.8940 - val_loss: 0.3847 - val_accuracy: 0.8400\n",
      "Epoch 82/120\n",
      "313/313 [==============================] - 4s 12ms/step - loss: 0.2476 - accuracy: 0.8916 - val_loss: 0.3733 - val_accuracy: 0.8390\n",
      "Epoch 83/120\n",
      "313/313 [==============================] - 4s 12ms/step - loss: 0.2418 - accuracy: 0.8940 - val_loss: 0.3607 - val_accuracy: 0.8370\n",
      "Epoch 84/120\n",
      "313/313 [==============================] - 4s 12ms/step - loss: 0.2520 - accuracy: 0.8889 - val_loss: 0.4051 - val_accuracy: 0.8380\n",
      "Epoch 85/120\n",
      "313/313 [==============================] - 4s 11ms/step - loss: 0.2504 - accuracy: 0.8908 - val_loss: 0.3704 - val_accuracy: 0.8410\n",
      "Epoch 86/120\n",
      "313/313 [==============================] - 4s 12ms/step - loss: 0.2403 - accuracy: 0.8956 - val_loss: 0.4405 - val_accuracy: 0.8290\n",
      "Epoch 87/120\n",
      "313/313 [==============================] - 4s 12ms/step - loss: 0.2344 - accuracy: 0.9023 - val_loss: 0.4219 - val_accuracy: 0.8250\n",
      "Epoch 88/120\n",
      "313/313 [==============================] - 4s 12ms/step - loss: 0.2446 - accuracy: 0.8983 - val_loss: 0.3972 - val_accuracy: 0.8360\n",
      "Epoch 89/120\n",
      "313/313 [==============================] - 4s 12ms/step - loss: 0.2350 - accuracy: 0.8994 - val_loss: 0.3907 - val_accuracy: 0.8360\n",
      "Epoch 90/120\n",
      "313/313 [==============================] - 4s 12ms/step - loss: 0.2503 - accuracy: 0.8895 - val_loss: 0.3787 - val_accuracy: 0.8330\n",
      "Epoch 91/120\n",
      "313/313 [==============================] - 4s 11ms/step - loss: 0.2461 - accuracy: 0.8897 - val_loss: 0.3839 - val_accuracy: 0.8300\n",
      "Epoch 92/120\n",
      "313/313 [==============================] - 4s 11ms/step - loss: 0.2290 - accuracy: 0.9053 - val_loss: 0.3861 - val_accuracy: 0.8440\n",
      "Epoch 93/120\n",
      "313/313 [==============================] - 4s 12ms/step - loss: 0.2356 - accuracy: 0.9001 - val_loss: 0.4247 - val_accuracy: 0.8330\n",
      "Epoch 94/120\n",
      "313/313 [==============================] - 3s 11ms/step - loss: 0.2352 - accuracy: 0.9007 - val_loss: 0.3866 - val_accuracy: 0.8450\n",
      "Epoch 95/120\n",
      "313/313 [==============================] - 4s 12ms/step - loss: 0.2331 - accuracy: 0.8995 - val_loss: 0.3879 - val_accuracy: 0.8220\n",
      "Epoch 96/120\n",
      "313/313 [==============================] - 4s 12ms/step - loss: 0.2288 - accuracy: 0.9046 - val_loss: 0.4290 - val_accuracy: 0.8340\n",
      "Epoch 97/120\n",
      "313/313 [==============================] - 4s 12ms/step - loss: 0.2293 - accuracy: 0.9017 - val_loss: 0.4046 - val_accuracy: 0.8400\n",
      "Epoch 98/120\n",
      "313/313 [==============================] - 4s 13ms/step - loss: 0.2199 - accuracy: 0.9025 - val_loss: 0.4202 - val_accuracy: 0.8410\n",
      "Epoch 99/120\n",
      "313/313 [==============================] - 4s 13ms/step - loss: 0.2224 - accuracy: 0.9064 - val_loss: 0.4065 - val_accuracy: 0.8400\n",
      "Epoch 100/120\n",
      "313/313 [==============================] - 4s 12ms/step - loss: 0.2251 - accuracy: 0.9013 - val_loss: 0.3930 - val_accuracy: 0.8450\n",
      "Epoch 101/120\n",
      "313/313 [==============================] - 4s 13ms/step - loss: 0.2356 - accuracy: 0.9031 - val_loss: 0.4649 - val_accuracy: 0.8320\n",
      "Epoch 102/120\n",
      "313/313 [==============================] - 4s 12ms/step - loss: 0.2290 - accuracy: 0.9039 - val_loss: 0.4153 - val_accuracy: 0.8480\n",
      "Epoch 103/120\n",
      "313/313 [==============================] - 3s 11ms/step - loss: 0.2338 - accuracy: 0.8953 - val_loss: 0.4390 - val_accuracy: 0.8360\n",
      "Epoch 104/120\n",
      "313/313 [==============================] - 3s 11ms/step - loss: 0.2315 - accuracy: 0.8996 - val_loss: 0.4385 - val_accuracy: 0.8360\n",
      "Epoch 105/120\n",
      "313/313 [==============================] - 3s 11ms/step - loss: 0.2233 - accuracy: 0.9025 - val_loss: 0.4235 - val_accuracy: 0.8430\n",
      "Epoch 106/120\n",
      "313/313 [==============================] - 3s 11ms/step - loss: 0.2235 - accuracy: 0.9006 - val_loss: 0.4338 - val_accuracy: 0.8390\n",
      "Epoch 107/120\n",
      "313/313 [==============================] - 4s 11ms/step - loss: 0.2140 - accuracy: 0.9072 - val_loss: 0.4781 - val_accuracy: 0.8360\n",
      "Epoch 108/120\n",
      "313/313 [==============================] - 3s 11ms/step - loss: 0.2134 - accuracy: 0.9099 - val_loss: 0.4422 - val_accuracy: 0.8430\n",
      "Epoch 109/120\n",
      "313/313 [==============================] - 4s 12ms/step - loss: 0.2150 - accuracy: 0.9057 - val_loss: 0.4223 - val_accuracy: 0.8340\n",
      "Epoch 110/120\n",
      "313/313 [==============================] - 4s 12ms/step - loss: 0.2017 - accuracy: 0.9135 - val_loss: 0.4700 - val_accuracy: 0.8330\n",
      "Epoch 111/120\n",
      "313/313 [==============================] - 4s 12ms/step - loss: 0.2074 - accuracy: 0.9111 - val_loss: 0.4888 - val_accuracy: 0.8270\n",
      "Epoch 112/120\n",
      "313/313 [==============================] - 3s 11ms/step - loss: 0.2150 - accuracy: 0.9078 - val_loss: 0.4508 - val_accuracy: 0.8370\n",
      "Epoch 113/120\n"
     ]
    },
    {
     "name": "stdout",
     "output_type": "stream",
     "text": [
      "313/313 [==============================] - 4s 13ms/step - loss: 0.2074 - accuracy: 0.9081 - val_loss: 0.4790 - val_accuracy: 0.8350\n",
      "Epoch 114/120\n",
      "313/313 [==============================] - 4s 12ms/step - loss: 0.1961 - accuracy: 0.9158 - val_loss: 0.4241 - val_accuracy: 0.8400\n",
      "Epoch 115/120\n",
      "313/313 [==============================] - 3s 11ms/step - loss: 0.1987 - accuracy: 0.9120 - val_loss: 0.4987 - val_accuracy: 0.8410\n",
      "Epoch 116/120\n",
      "313/313 [==============================] - 4s 11ms/step - loss: 0.2084 - accuracy: 0.9110 - val_loss: 0.5386 - val_accuracy: 0.8280\n",
      "Epoch 117/120\n",
      "313/313 [==============================] - 3s 11ms/step - loss: 0.2073 - accuracy: 0.9105 - val_loss: 0.4569 - val_accuracy: 0.8340\n",
      "Epoch 118/120\n",
      "313/313 [==============================] - 4s 11ms/step - loss: 0.2042 - accuracy: 0.9093 - val_loss: 0.4273 - val_accuracy: 0.8360\n",
      "Epoch 119/120\n",
      "313/313 [==============================] - 4s 12ms/step - loss: 0.1978 - accuracy: 0.9128 - val_loss: 0.4383 - val_accuracy: 0.8380\n",
      "Epoch 120/120\n",
      "313/313 [==============================] - 4s 12ms/step - loss: 0.1942 - accuracy: 0.9156 - val_loss: 0.4200 - val_accuracy: 0.8390\n"
     ]
    }
   ],
   "source": [
    "# train\n",
    "history = model.fit([inputs_train, queries_train], answers_train,batch_size=32,epochs=120,validation_data=([inputs_test, queries_test], answers_test))"
   ]
  },
  {
   "cell_type": "code",
   "execution_count": 55,
   "metadata": {},
   "outputs": [],
   "source": [
    "import warnings"
   ]
  },
  {
   "cell_type": "code",
   "execution_count": 56,
   "metadata": {},
   "outputs": [],
   "source": [
    "warnings.filterwarnings('ignore')\n",
    "filename = 'mine_chatbot_120_epochs.h5'\n",
    "model.save(filename)"
   ]
  },
  {
   "cell_type": "code",
   "execution_count": 57,
   "metadata": {},
   "outputs": [
    {
     "name": "stdout",
     "output_type": "stream",
     "text": [
      "dict_keys(['loss', 'accuracy', 'val_loss', 'val_accuracy'])\n"
     ]
    },
    {
     "data": {
      "image/png": "[encoded data removed]",
      "text/plain": [
       "<Figure size 432x288 with 1 Axes>"
      ]
     },
     "metadata": {
      "needs_background": "light"
     },
     "output_type": "display_data"
    }
   ],
   "source": [
    "import matplotlib.pyplot as plt\n",
    "%matplotlib inline\n",
    "print(history.history.keys())\n",
    "# summarize history for accuracy\n",
    "plt.plot(history.history['accuracy'])\n",
    "plt.plot(history.history['val_accuracy'])\n",
    "plt.title('model accuracy')\n",
    "plt.ylabel('accuracy')\n",
    "plt.xlabel('epoch')\n",
    "plt.legend(['train', 'test'], loc='upper left')\n",
    "plt.show()"
   ]
  },
  {
   "cell_type": "markdown",
   "metadata": {},
   "source": [
    "## Evaluating on test set"
   ]
  },
  {
   "cell_type": "code",
   "execution_count": 58,
   "metadata": {},
   "outputs": [],
   "source": [
    "model.load_weights(filename)"
   ]
  },
  {
   "cell_type": "code",
   "execution_count": 59,
   "metadata": {},
   "outputs": [],
   "source": [
    "pred_results = model.predict(([inputs_test, queries_test]))"
   ]
  },
  {
   "cell_type": "code",
   "execution_count": 60,
   "metadata": {},
   "outputs": [
    {
     "data": {
      "text/plain": [
       "(['Mary',\n",
       "  'got',\n",
       "  'the',\n",
       "  'milk',\n",
       "  'there',\n",
       "  '.',\n",
       "  'John',\n",
       "  'moved',\n",
       "  'to',\n",
       "  'the',\n",
       "  'bedroom',\n",
       "  '.'],\n",
       " ['Is', 'John', 'in', 'the', 'kitchen', '?'],\n",
       " 'no')"
      ]
     },
     "execution_count": 60,
     "metadata": {},
     "output_type": "execute_result"
    }
   ],
   "source": [
    "test_data[0]"
   ]
  },
  {
   "cell_type": "markdown",
   "metadata": {},
   "source": [
    "### True answer of first question is no, based on story"
   ]
  },
  {
   "cell_type": "code",
   "execution_count": 61,
   "metadata": {},
   "outputs": [
    {
     "data": {
      "text/plain": [
       "array([1.48960835e-17, 1.54994655e-17, 1.50033540e-17, 1.72705336e-17,\n",
       "       1.40081564e-17, 1.53353793e-17, 1.24488978e-17, 1.44065299e-17,\n",
       "       1.81178759e-17, 1.58962872e-17, 9.99996662e-01, 1.41005327e-17,\n",
       "       1.85367784e-17, 1.41293367e-17, 1.24361774e-17, 1.62973589e-17,\n",
       "       1.41157081e-17, 3.33792786e-06, 1.59397638e-17, 1.65679678e-17,\n",
       "       1.50237440e-17, 1.67769549e-17, 1.42029393e-17, 1.64855690e-17,\n",
       "       1.52580032e-17, 1.40460942e-17, 1.73469932e-17, 1.44944526e-17,\n",
       "       1.37631249e-17, 1.61732471e-17, 1.26881855e-17, 1.33968451e-17,\n",
       "       1.53739789e-17, 1.57904593e-17, 1.54532972e-17, 1.37749957e-17,\n",
       "       1.54985787e-17, 1.46444006e-17], dtype=float32)"
      ]
     },
     "execution_count": 61,
     "metadata": {},
     "output_type": "execute_result"
    }
   ],
   "source": [
    "# len(pred_results[0])\n",
    "pred_results[0]"
   ]
  },
  {
   "cell_type": "code",
   "execution_count": 62,
   "metadata": {},
   "outputs": [
    {
     "data": {
      "text/plain": [
       "10"
      ]
     },
     "execution_count": 62,
     "metadata": {},
     "output_type": "execute_result"
    }
   ],
   "source": [
    "pred_results[0].argmax()"
   ]
  },
  {
   "cell_type": "code",
   "execution_count": 63,
   "metadata": {},
   "outputs": [
    {
     "data": {
      "text/plain": [
       "10"
      ]
     },
     "execution_count": 63,
     "metadata": {},
     "output_type": "execute_result"
    }
   ],
   "source": [
    "tokenizer.word_index['no']"
   ]
  },
  {
   "cell_type": "code",
   "execution_count": 64,
   "metadata": {},
   "outputs": [
    {
     "name": "stdout",
     "output_type": "stream",
     "text": [
      "Predicted Answer is 'no'\n",
      "Probability of certainity is 0.99999666\n"
     ]
    }
   ],
   "source": [
    "for word in vocab:\n",
    "    word = word.lower()\n",
    "    if tokenizer.word_index[word]==pred_results[0].argmax():\n",
    "        print(\"Predicted Answer is \" +\"'\"+str(word)+\"'\")\n",
    "        print('Probability of certainity is ' + str(pred_results[0].max()))"
   ]
  },
  {
   "cell_type": "markdown",
   "metadata": {},
   "source": [
    "## Writing our own stories"
   ]
  },
  {
   "cell_type": "code",
   "execution_count": 65,
   "metadata": {},
   "outputs": [
    {
     "data": {
      "text/plain": [
       "{'.',\n",
       " '?',\n",
       " 'Daniel',\n",
       " 'Is',\n",
       " 'John',\n",
       " 'Mary',\n",
       " 'Sandra',\n",
       " 'apple',\n",
       " 'back',\n",
       " 'bathroom',\n",
       " 'bedroom',\n",
       " 'discarded',\n",
       " 'down',\n",
       " 'dropped',\n",
       " 'football',\n",
       " 'garden',\n",
       " 'got',\n",
       " 'grabbed',\n",
       " 'hallway',\n",
       " 'in',\n",
       " 'journeyed',\n",
       " 'kitchen',\n",
       " 'left',\n",
       " 'milk',\n",
       " 'moved',\n",
       " 'no',\n",
       " 'office',\n",
       " 'picked',\n",
       " 'put',\n",
       " 'the',\n",
       " 'there',\n",
       " 'to',\n",
       " 'took',\n",
       " 'travelled',\n",
       " 'up',\n",
       " 'went',\n",
       " 'yes'}"
      ]
     },
     "execution_count": 65,
     "metadata": {},
     "output_type": "execute_result"
    }
   ],
   "source": [
    "vocab"
   ]
  },
  {
   "cell_type": "code",
   "execution_count": 66,
   "metadata": {},
   "outputs": [],
   "source": [
    "my_story = 'Mary moved to garden . Daniel put milk in kitchen .'"
   ]
  },
  {
   "cell_type": "code",
   "execution_count": 67,
   "metadata": {},
   "outputs": [],
   "source": [
    "my_query = 'Is Milk in the kitchen ?'"
   ]
  },
  {
   "cell_type": "code",
   "execution_count": 68,
   "metadata": {},
   "outputs": [],
   "source": [
    "my_ans = 'yes'"
   ]
  },
  {
   "cell_type": "code",
   "execution_count": 69,
   "metadata": {},
   "outputs": [],
   "source": [
    "my_testing = [(my_story.split(),my_query.split(),my_ans)]"
   ]
  },
  {
   "cell_type": "code",
   "execution_count": 70,
   "metadata": {},
   "outputs": [],
   "source": [
    "my_story,my_ques,my_ans = vectorize(my_testing)"
   ]
  },
  {
   "cell_type": "code",
   "execution_count": 71,
   "metadata": {},
   "outputs": [],
   "source": [
    "pred_results = model.predict(([my_story, my_ques]))"
   ]
  },
  {
   "cell_type": "code",
   "execution_count": 72,
   "metadata": {},
   "outputs": [
    {
     "name": "stdout",
     "output_type": "stream",
     "text": [
      "Predicted answer is:  yes\n",
      "Probability of certainty was:  0.89285517\n"
     ]
    }
   ],
   "source": [
    "#Generate prediction from model\n",
    "val_max = np.argmax(pred_results[0])\n",
    "\n",
    "for key, val in tokenizer.word_index.items():\n",
    "    if val == val_max:\n",
    "        k = key\n",
    "\n",
    "print(\"Predicted answer is: \", k)\n",
    "print(\"Probability of certainty was: \", pred_results[0][val_max])"
   ]
  },
  {
   "cell_type": "code",
   "execution_count": null,
   "metadata": {},
   "outputs": [],
   "source": []
  }
 ],
 "metadata": {
  "kernelspec": {
   "display_name": "Python 3",
   "language": "python",
   "name": "python3"
  },
  "language_info": {
   "codemirror_mode": {
    "name": "ipython",
    "version": 3
   },
   "file_extension": ".py",
   "mimetype": "text/x-python",
   "name": "python",
   "nbconvert_exporter": "python",
   "pygments_lexer": "ipython3",
   "version": "3.8.5"
  },
  "widgets": {
   "application/vnd.jupyter.widget-state+json": {
    "state": {},
    "version_major": 2,
    "version_minor": 0
   }
  }
 },
 "nbformat": 4,
 "nbformat_minor": 4
}
